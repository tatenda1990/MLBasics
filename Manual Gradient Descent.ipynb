{
 "cells": [
  {
   "cell_type": "code",
   "execution_count": 1,
   "metadata": {},
   "outputs": [],
   "source": [
    "import numpy as np\n",
    "import pandas as pd\n",
    "import sympy as sp\n",
    "import matplotlib.pyplot as plt\n",
    "# degC = np.array([-40,-10,0,8,15,22,38])\n",
    "# degF= np.array([-40,14,32,46,59,72,100])\n",
    "degC = np.array([0.5,2.3,2.9])\n",
    "degF= np.array([1.4,1.9,3.2])\n",
    "\n",
    "def gradient_descent_func(init_guess, learning_rate, step_size_limit, max_steps):\n",
    "    \n",
    "    SS_list = [] #for plotting intercept vs Sum of Squares scatter plot\n",
    "    guesses = []\n",
    "    \n",
    "    #intialise counters\n",
    "    guess = init_guess\n",
    "    step_size = 0\n",
    "    lr = learning_rate\n",
    "    step = 0\n",
    "    m = 0.68 #for statquest dataset\n",
    "    #m = 1.7979 for degF to degC dataset\n",
    "\n",
    "    while True: #this block of code is excuted until 1000 iterations or limit of 0.001 is reached on the step_size. Remember Gradient Descent is iterative\n",
    "        res_squared_array = np.array([]) #initialise array to hold residual squared error functions\n",
    "        diffs_array = np.array([]) #initialise array to hold diffs array\n",
    "        for i,j in enumerate(degC):\n",
    "            c = sp.Symbol ('c') #sympy allows for analytical differentiation returning an expression that can be evaluated along the length of the curve / function\n",
    "            res_squared = (degF[i] - ((m*j) + c))**2 #calculate square of the difference between observation and predicted value\n",
    "                                                        #recogise this is the simple case of a linear line in which the slope was given, so we areonl optimising for the intercept\n",
    "            res_squared_array = np.append(res_squared_array, res_squared) #append the expressions for calculating squared error to an array\n",
    "            temp = sp.diff(res_squared,c) #for each iteration create a temp variable storing the differentiated form of the squared error\n",
    "            diffs_array = np.append(diffs_array, temp) #append each differentiated form to an array called diffs_array\n",
    "        SS = sum(res_squared_array).subs(c,guess) #the native sum function allows for summing the differentials\n",
    "                                                  #the sum of differentials is then calculated by sustituting the intial guess provided by the user\n",
    "        print(\"Sum of Squares: {}\".format(SS))    #for observation \n",
    "        SS_list.append(SS) #for plotting SS vs intercept\n",
    "        #diffs_sum = sum(diffs_array)\n",
    "        dssdc = sum(diffs_array).subs(c,guess) #sum the differentials and substiute the intercept with the guess\n",
    "        print(\"d(Sum of Squares)/d(c) : {} \".format(dssdc))\n",
    "        step_size = dssdc * 0.1\n",
    "        print(\"Step Size {}: \".format(step_size))\n",
    "        print (\"Current guess: {}\".format(guess))\n",
    "        guesses.append(guess)\n",
    "        guess = guess - step_size\n",
    "        print(\"Next Guess: {}\".format(guess))\n",
    "        print()\n",
    "        step = step + 1\n",
    "        if (abs(step_size) - 0) < step_size_limit:\n",
    "            print('Solution to c was found as: {} after {} steps'.format(guess, step))\n",
    "            print ('Correct c for random statquest dataset is 0.87')\n",
    "            print('given m :{}'.format(m))\n",
    "            break\n",
    "        elif step == 1000:\n",
    "            print(\"no solution was found\")\n",
    "            break\n",
    "        else:\n",
    "            continue\n",
    "    return guesses,SS_list\n",
    "#correct c = 0.87"
   ]
  },
  {
   "cell_type": "code",
   "execution_count": 2,
   "metadata": {},
   "outputs": [
    {
     "name": "stdout",
     "output_type": "stream",
     "text": [
      "Sum of Squares: 2.74448000000000\n",
      "d(Sum of Squares)/d(c) : -5.24800000000000 \n",
      "Step Size -0.524800000000000: \n",
      "Current guess: 0\n",
      "Next Guess: 0.524800000000000\n",
      "\n",
      "Sum of Squares: 0.816574720000000\n",
      "d(Sum of Squares)/d(c) : -2.09920000000000 \n",
      "Step Size -0.209920000000000: \n",
      "Current guess: 0.524800000000000\n",
      "Next Guess: 0.734720000000000\n",
      "\n",
      "Sum of Squares: 0.508109875200000\n",
      "d(Sum of Squares)/d(c) : -0.839680000000000 \n",
      "Step Size -0.0839680000000000: \n",
      "Current guess: 0.734720000000000\n",
      "Next Guess: 0.818688000000000\n",
      "\n",
      "Sum of Squares: 0.458755500032000\n",
      "d(Sum of Squares)/d(c) : -0.335872000000000 \n",
      "Step Size -0.0335872000000000: \n",
      "Current guess: 0.818688000000000\n",
      "Next Guess: 0.852275200000000\n",
      "\n",
      "Sum of Squares: 0.450858800005120\n",
      "d(Sum of Squares)/d(c) : -0.134348800000000 \n",
      "Step Size -0.0134348800000000: \n",
      "Current guess: 0.852275200000000\n",
      "Next Guess: 0.865710080000000\n",
      "\n",
      "Sum of Squares: 0.449595328000819\n",
      "d(Sum of Squares)/d(c) : -0.0537395200000006 \n",
      "Step Size -0.00537395200000006: \n",
      "Current guess: 0.865710080000000\n",
      "Next Guess: 0.871084032000000\n",
      "\n",
      "Sum of Squares: 0.449393172480131\n",
      "d(Sum of Squares)/d(c) : -0.0214958080000001 \n",
      "Step Size -0.00214958080000001: \n",
      "Current guess: 0.871084032000000\n",
      "Next Guess: 0.873233612800000\n",
      "\n",
      "Sum of Squares: 0.449360827596821\n",
      "d(Sum of Squares)/d(c) : -0.00859832320000020 \n",
      "Step Size -0.000859832320000020: \n",
      "Current guess: 0.873233612800000\n",
      "Next Guess: 0.874093445120000\n",
      "\n",
      "Solution to c was found as: 0.874093445120000 after 8 steps\n",
      "Correct c for random statquest dataset is 0.87\n",
      "given m :0.68\n"
     ]
    }
   ],
   "source": [
    "guesses, SS_list = gradient_descent_func(0,0.1,0.001,1000) #(init_guess, learning_rate, step_size_limit, max_steps)"
   ]
  },
  {
   "cell_type": "code",
   "execution_count": 13,
   "metadata": {},
   "outputs": [
    {
     "data": {
      "text/plain": [
       "<matplotlib.collections.PathCollection at 0x1f1f5da2920>"
      ]
     },
     "execution_count": 13,
     "metadata": {},
     "output_type": "execute_result"
    },
    {
     "data": {
      "image/png": "[encoded data removed]",
      "text/plain": [
       "<Figure size 640x480 with 1 Axes>"
      ]
     },
     "metadata": {},
     "output_type": "display_data"
    }
   ],
   "source": [
    "plt.scatter(guesses, SS_list)"
   ]
  },
  {
   "cell_type": "code",
   "execution_count": 4,
   "metadata": {},
   "outputs": [
    {
     "data": {
      "text/plain": [
       "[0,\n",
       " 0.524800000000000,\n",
       " 0.734720000000000,\n",
       " 0.818688000000000,\n",
       " 0.852275200000000,\n",
       " 0.865710080000000,\n",
       " 0.871084032000000,\n",
       " 0.873233612800000]"
      ]
     },
     "execution_count": 4,
     "metadata": {},
     "output_type": "execute_result"
    }
   ],
   "source": [
    "guesses"
   ]
  },
  {
   "cell_type": "code",
   "execution_count": 5,
   "metadata": {},
   "outputs": [
    {
     "data": {
      "text/plain": [
       "[2.74448000000000,\n",
       " 0.816574720000000,\n",
       " 0.508109875200000,\n",
       " 0.458755500032000,\n",
       " 0.450858800005120,\n",
       " 0.449595328000819,\n",
       " 0.449393172480131,\n",
       " 0.449360827596821]"
      ]
     },
     "execution_count": 5,
     "metadata": {},
     "output_type": "execute_result"
    }
   ],
   "source": [
    "SS_list"
   ]
  },
  {
   "cell_type": "code",
   "execution_count": 6,
   "metadata": {},
   "outputs": [
    {
     "name": "stdout",
     "output_type": "stream",
     "text": [
      "iteration Succesful\n",
      "220\n",
      "m : 0.681871421156012\n",
      "c : 0.852848461414634\n",
      "correct values for small 3 example batch is m = 0.68 and c = 0.87\n"
     ]
    }
   ],
   "source": [
    "import numpy as np\n",
    "import pandas as pd\n",
    "import sympy as sp\n",
    "import matplotlib.pyplot as plt\n",
    "\n",
    "degC = np.array([0.5,2.3,2.9]) #x\n",
    "degF= np.array([1.4,1.9,3.2])  #y\n",
    "\n",
    "# degC = np.array([-40,-10,0,8,15,22,38])\n",
    "# degF= np.array([-40,14,32,46,59,72,100])\n",
    "\n",
    "guess_m = 1\n",
    "guess_c = 0\n",
    "counter = 0\n",
    "lr = 0.009\n",
    "\n",
    "ss = np.array([])\n",
    "m_values = []\n",
    "c_values = []\n",
    "\n",
    "while True:\n",
    "    dummy_m = np.array([])\n",
    "    dummy_c = np.array([])\n",
    "    for i,j in enumerate(degC):\n",
    "        m = sp.Symbol('m')\n",
    "        c = sp.Symbol('c')\n",
    "        res_squared = (degF[i] - ((m*j)+c))**2\n",
    "        temp = res_squared.subs({c: guess_c, m:guess_m})\n",
    "        ss = np.append(ss, temp)\n",
    "        m_values.append(guess_m)\n",
    "        c_values.append(guess_c)\n",
    "        m_diff_temp= sp.diff(res_squared, m)\n",
    "        c_diff_temp= sp.diff(res_squared, c)\n",
    "        dummy_m = np.append(dummy_m, m_diff_temp)\n",
    "        dummy_c = np.append(dummy_c, c_diff_temp)  \n",
    "    dssdm = sum(dummy_m).subs({c: guess_c, m:guess_m})\n",
    "    dssdc = sum(dummy_c).subs({c: guess_c, m:guess_m})\n",
    "    step_size_m = dssdm * lr\n",
    "#     if abs(step_size_m) < 0.001:\n",
    "#         step_size_m = 0\n",
    "    step_size_c = dssdc * lr\n",
    "#     if abs(step_size_c) < 0.001:\n",
    "#         step_size_c = 0\n",
    "    guess_m = guess_m - step_size_m\n",
    "    guess_c = guess_c - step_size_c\n",
    "    counter = counter + 1\n",
    "    if abs(step_size_m) < 0.001 and abs(step_size_c) < 0.001:\n",
    "        print('iteration Succesful')\n",
    "        print(counter)\n",
    "        print(\"m : {}\".format(guess_m))\n",
    "        print(\"c : {}\".format(guess_c))\n",
    "        print(\"correct values for small 3 example batch is m = 0.68 and c = 0.87\")\n",
    "        break\n",
    "    elif counter == 1000:\n",
    "        print('iteration did not converge')\n",
    "        break\n",
    "    else:\n",
    "        continue"
   ]
  },
  {
   "cell_type": "code",
   "execution_count": null,
   "metadata": {},
   "outputs": [],
   "source": []
  }
 ],
 "metadata": {
  "kernelspec": {
   "display_name": "Python 3.10.7 64-bit",
   "language": "python",
   "name": "python3"
  },
  "language_info": {
   "codemirror_mode": {
    "name": "ipython",
    "version": 3
   },
   "file_extension": ".py",
   "mimetype": "text/x-python",
   "name": "python",
   "nbconvert_exporter": "python",
   "pygments_lexer": "ipython3",
   "version": "3.10.7"
  },
  "vscode": {
   "interpreter": {
    "hash": "26de051ba29f2982a8de78e945f0abaf191376122a1563185a90213a26c5da77"
   }
  }
 },
 "nbformat": 4,
 "nbformat_minor": 2
}
